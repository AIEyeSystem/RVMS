{
 "cells": [
  {
   "cell_type": "code",
   "execution_count": 78,
   "metadata": {},
   "outputs": [
    {
     "name": "stdout",
     "output_type": "stream",
     "text": [
      "MainAngle :\n",
      "High mean: 77.50506201550388,Normal mean: 81.05873106060605\n",
      "High std: 25.585169335653834,Normal std: 24.69769702521776\n",
      "LeveneResult(statistic=0.9618376169750295, pvalue=0.32689103222520965)\n",
      "-2.049994172232629 P_Value:  0.040547920989883676\n",
      "MeanTrunkBAngle :\n",
      "High mean: 33.69533025830258,Normal mean: 33.30674603174604\n",
      "High std: 13.14681612375576,Normal std: 14.123816003509113\n",
      "LeveneResult(statistic=2.901616157218902, pvalue=0.08872370584205441)\n",
      "0.4166463768921876 P_Value:  0.6770041116660681\n",
      "MeanEdgeBAngle :\n",
      "High mean: 35.009293207222704,Normal mean: 34.207921641791046\n",
      "High std: 8.70542746698716,Normal std: 9.121323975648675\n",
      "LeveneResult(statistic=0.17810001977845022, pvalue=0.673074644581592)\n",
      "1.346318570161542 P_Value:  0.17841331364783347\n"
     ]
    }
   ],
   "source": [
    "from  scipy.stats import ttest_ind, levene\n",
    "import pandas as pd\n",
    "import numpy as np\n",
    "import matplotlib.pyplot as plt\n",
    "\n",
    "\n",
    "hmyopia_type = 'l'\n",
    "lmyopia_type = 'n'\n",
    "vessel_type = 'Vein'\n",
    "dfH = pd.read_csv(f'./experiments/{hmyopia_type}/{vessel_type}.csv')\n",
    "dfN = pd.read_csv(f'./experiments/{lmyopia_type}/{vessel_type}.csv')\n",
    "\n",
    "params = ['MainAngle','MeanTrunkBAngle','MeanEdgeBAngle']\n",
    "for p in params:\n",
    "    if p == 'MainAngle':\n",
    "        angle_max = 140\n",
    "        angle_min = 5\n",
    "    else:\n",
    "        angle_max = 60\n",
    "        angle_min = 5\n",
    "    H_main_angle = dfH[p]\n",
    "    # print(H_main_angle.size)\n",
    "    H_main_angle = H_main_angle[(H_main_angle>angle_min)&(H_main_angle<angle_max)] \n",
    "    N_main_angle = dfN[p]\n",
    "    # print(N_main_angle.size)\n",
    "    N_main_angle = N_main_angle[(N_main_angle>angle_min)&(N_main_angle<angle_max)] \n",
    "\n",
    "    H_mean = H_main_angle.mean()\n",
    "    H_std = H_main_angle.std()\n",
    "    N_mean = N_main_angle.mean()\n",
    "    N_std = N_main_angle.std()\n",
    "\n",
    "    print(p,':')\n",
    "    print(f'High mean: {H_mean},Normal mean: {N_mean}')\n",
    "    print(f'High std: {H_std},Normal std: {N_std}')\n",
    "    # print(H_main_angle) \n",
    "    # plt.boxplot([H_main_angle,N_main_angle])\n",
    "\n",
    "    leveneTestRes = levene(H_main_angle,N_main_angle)\n",
    "    print(leveneTestRes)\n",
    "    # print(leveneTestRes[1])\n",
    "\n",
    "    # t,p_two = ttest_ind(H_main_angle,N_main_angle,equal_var=False)\n",
    "    # if leveneTestRes[1]\n",
    "    if leveneTestRes[1] < 0.05: \n",
    "        ### variance is not equal\n",
    "        t,p_two = ttest_ind(H_main_angle,N_main_angle,equal_var=False)\n",
    "    else:\n",
    "        t,p_two = ttest_ind(H_main_angle,N_main_angle,equal_var=True)\n",
    "    print(t,'P_Value: ',p_two)"
   ]
  }
 ],
 "metadata": {
  "kernelspec": {
   "display_name": "python38",
   "language": "python",
   "name": "python3"
  },
  "language_info": {
   "codemirror_mode": {
    "name": "ipython",
    "version": 3
   },
   "file_extension": ".py",
   "mimetype": "text/x-python",
   "name": "python",
   "nbconvert_exporter": "python",
   "pygments_lexer": "ipython3",
   "version": "3.8.2"
  }
 },
 "nbformat": 4,
 "nbformat_minor": 2
}
